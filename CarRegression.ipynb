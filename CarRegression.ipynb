{
 "cells": [
  {
   "cell_type": "markdown",
   "id": "bdb2fc54",
   "metadata": {},
   "source": [
    "# Car prices predictor\n",
    "\n",
    "In this notebook, different tools from sklearn, numpy and panda were used\n",
    "to create an algorithm capable of predicting a car´s price given some of it´s\n",
    "information.\n",
    "\n",
    "## Objectives:\n",
    "\n",
    "* Analyze the data to get a good insight on it´s characteristics.\n",
    "* Clean the data / get it readi to be fitted with a model.\n",
    "* Find a Regression model that returns a **r2 of at least 0.9**  with our data and a \n",
    "  **porcentual absolute error below 12%**.\n",
    "* How \"heavy\" the model is in terms of hardware requeriments will be considered.\n",
    "* Analyze the performance of the best model achieved, using different metrics."
   ]
  },
  {
   "cell_type": "markdown",
   "id": "0a82a428",
   "metadata": {},
   "source": [
    "### Imports"
   ]
  },
  {
   "cell_type": "code",
   "execution_count": 2,
   "id": "62aa9932",
   "metadata": {},
   "outputs": [],
   "source": [
    "# libraries\n",
    "import numpy as np\n",
    "import pandas as pd\n",
    "import matplotlib.pyplot as plt\n",
    "import seaborn as sns\n",
    "\n",
    "# inline plots\n",
    "%matplotlib inline\n",
    "\n",
    "# models we´ll try\n",
    "import sklearn\n",
    "from sklearn.linear_model import ElasticNet, Lasso, Ridge, SGDRegressor\n",
    "from sklearn.ensemble import RandomForestRegressor, GradientBoostingRegressor\n",
    "\n",
    "# other necessary sklearn tools\n",
    "from sklearn.model_selection import train_test_split, cross_val_score\n",
    "from sklearn.model_selection import GridSearchCV, RandomizedSearchCV\n",
    "from sklearn.compose import ColumnTransformer"
   ]
  },
  {
   "cell_type": "markdown",
   "id": "0c873de3",
   "metadata": {},
   "source": [
    "z9>1\n",
    "520369+.ZA## Importing/Exploring the data\n",
    "\n",
    "The analyzed data was taken from the following link.\n",
    "https://www.kaggle.com/aleksandrglotov/car-prices-poland"
   ]
  },
  {
   "cell_type": "code",
   "execution_count": 15,
   "id": "51103b37",
   "metadata": {},
   "outputs": [],
   "source": [
    "data = pd.read_csv(\"CarPrices.csv\")"
   ]
  },
  {
   "cell_type": "code",
   "execution_count": 16,
   "id": "33003c82",
   "metadata": {},
   "outputs": [
    {
     "data": {
      "text/html": [
       "<div>\n",
       "<style scoped>\n",
       "    .dataframe tbody tr th:only-of-type {\n",
       "        vertical-align: middle;\n",
       "    }\n",
       "\n",
       "    .dataframe tbody tr th {\n",
       "        vertical-align: top;\n",
       "    }\n",
       "\n",
       "    .dataframe thead th {\n",
       "        text-align: right;\n",
       "    }\n",
       "</style>\n",
       "<table border=\"1\" class=\"dataframe\">\n",
       "  <thead>\n",
       "    <tr style=\"text-align: right;\">\n",
       "      <th></th>\n",
       "      <th>Unnamed: 0</th>\n",
       "      <th>mark</th>\n",
       "      <th>model</th>\n",
       "      <th>year</th>\n",
       "      <th>mileage</th>\n",
       "      <th>vol_engine</th>\n",
       "      <th>fuel</th>\n",
       "      <th>city</th>\n",
       "      <th>province</th>\n",
       "      <th>price</th>\n",
       "    </tr>\n",
       "  </thead>\n",
       "  <tbody>\n",
       "    <tr>\n",
       "      <th>0</th>\n",
       "      <td>0</td>\n",
       "      <td>opel</td>\n",
       "      <td>combo</td>\n",
       "      <td>2015</td>\n",
       "      <td>139568</td>\n",
       "      <td>1248</td>\n",
       "      <td>Diesel</td>\n",
       "      <td>Janki</td>\n",
       "      <td>Mazowieckie</td>\n",
       "      <td>35900</td>\n",
       "    </tr>\n",
       "    <tr>\n",
       "      <th>1</th>\n",
       "      <td>1</td>\n",
       "      <td>opel</td>\n",
       "      <td>combo</td>\n",
       "      <td>2018</td>\n",
       "      <td>31991</td>\n",
       "      <td>1499</td>\n",
       "      <td>Diesel</td>\n",
       "      <td>Katowice</td>\n",
       "      <td>Śląskie</td>\n",
       "      <td>78501</td>\n",
       "    </tr>\n",
       "    <tr>\n",
       "      <th>2</th>\n",
       "      <td>2</td>\n",
       "      <td>opel</td>\n",
       "      <td>combo</td>\n",
       "      <td>2015</td>\n",
       "      <td>278437</td>\n",
       "      <td>1598</td>\n",
       "      <td>Diesel</td>\n",
       "      <td>Brzeg</td>\n",
       "      <td>Opolskie</td>\n",
       "      <td>27000</td>\n",
       "    </tr>\n",
       "    <tr>\n",
       "      <th>3</th>\n",
       "      <td>3</td>\n",
       "      <td>opel</td>\n",
       "      <td>combo</td>\n",
       "      <td>2016</td>\n",
       "      <td>47600</td>\n",
       "      <td>1248</td>\n",
       "      <td>Diesel</td>\n",
       "      <td>Korfantów</td>\n",
       "      <td>Opolskie</td>\n",
       "      <td>30800</td>\n",
       "    </tr>\n",
       "    <tr>\n",
       "      <th>4</th>\n",
       "      <td>4</td>\n",
       "      <td>opel</td>\n",
       "      <td>combo</td>\n",
       "      <td>2014</td>\n",
       "      <td>103000</td>\n",
       "      <td>1400</td>\n",
       "      <td>CNG</td>\n",
       "      <td>Tarnowskie Góry</td>\n",
       "      <td>Śląskie</td>\n",
       "      <td>35900</td>\n",
       "    </tr>\n",
       "  </tbody>\n",
       "</table>\n",
       "</div>"
      ],
      "text/plain": [
       "   Unnamed: 0  mark  model  year  mileage  vol_engine    fuel  \\\n",
       "0           0  opel  combo  2015   139568        1248  Diesel   \n",
       "1           1  opel  combo  2018    31991        1499  Diesel   \n",
       "2           2  opel  combo  2015   278437        1598  Diesel   \n",
       "3           3  opel  combo  2016    47600        1248  Diesel   \n",
       "4           4  opel  combo  2014   103000        1400     CNG   \n",
       "\n",
       "              city     province  price  \n",
       "0            Janki  Mazowieckie  35900  \n",
       "1         Katowice      Śląskie  78501  \n",
       "2            Brzeg     Opolskie  27000  \n",
       "3        Korfantów     Opolskie  30800  \n",
       "4  Tarnowskie Góry      Śląskie  35900  "
      ]
     },
     "execution_count": 16,
     "metadata": {},
     "output_type": "execute_result"
    }
   ],
   "source": [
    "# The rows seem to be ordered by mark and model\n",
    "data.head()"
   ]
  },
  {
   "cell_type": "code",
   "execution_count": 4,
   "id": "1396139d",
   "metadata": {},
   "outputs": [
    {
     "data": {
      "text/html": [
       "<div>\n",
       "<style scoped>\n",
       "    .dataframe tbody tr th:only-of-type {\n",
       "        vertical-align: middle;\n",
       "    }\n",
       "\n",
       "    .dataframe tbody tr th {\n",
       "        vertical-align: top;\n",
       "    }\n",
       "\n",
       "    .dataframe thead th {\n",
       "        text-align: right;\n",
       "    }\n",
       "</style>\n",
       "<table border=\"1\" class=\"dataframe\">\n",
       "  <thead>\n",
       "    <tr style=\"text-align: right;\">\n",
       "      <th></th>\n",
       "      <th>Unnamed: 0</th>\n",
       "      <th>mark</th>\n",
       "      <th>model</th>\n",
       "      <th>generation_name</th>\n",
       "      <th>year</th>\n",
       "      <th>mileage</th>\n",
       "      <th>vol_engine</th>\n",
       "      <th>fuel</th>\n",
       "      <th>city</th>\n",
       "      <th>province</th>\n",
       "      <th>price</th>\n",
       "    </tr>\n",
       "  </thead>\n",
       "  <tbody>\n",
       "    <tr>\n",
       "      <th>34601</th>\n",
       "      <td>34601</td>\n",
       "      <td>bmw</td>\n",
       "      <td>x5</td>\n",
       "      <td>gen-e53-1999-2006</td>\n",
       "      <td>2003</td>\n",
       "      <td>239000</td>\n",
       "      <td>4398</td>\n",
       "      <td>Gasoline</td>\n",
       "      <td>Siedlce</td>\n",
       "      <td>Mazowieckie</td>\n",
       "      <td>29900</td>\n",
       "    </tr>\n",
       "    <tr>\n",
       "      <th>35206</th>\n",
       "      <td>35206</td>\n",
       "      <td>volkswagen</td>\n",
       "      <td>arteon</td>\n",
       "      <td>NaN</td>\n",
       "      <td>2021</td>\n",
       "      <td>7000</td>\n",
       "      <td>1984</td>\n",
       "      <td>Gasoline</td>\n",
       "      <td>Włocławek</td>\n",
       "      <td>Kujawsko-pomorskie</td>\n",
       "      <td>189900</td>\n",
       "    </tr>\n",
       "    <tr>\n",
       "      <th>57116</th>\n",
       "      <td>57116</td>\n",
       "      <td>mercedes-benz</td>\n",
       "      <td>glc-klasa</td>\n",
       "      <td>NaN</td>\n",
       "      <td>2019</td>\n",
       "      <td>10000</td>\n",
       "      <td>1991</td>\n",
       "      <td>Gasoline</td>\n",
       "      <td>Staszów</td>\n",
       "      <td>Świętokrzyskie</td>\n",
       "      <td>220000</td>\n",
       "    </tr>\n",
       "    <tr>\n",
       "      <th>94882</th>\n",
       "      <td>94882</td>\n",
       "      <td>kia</td>\n",
       "      <td>ceed</td>\n",
       "      <td>gen-i-2006-2012</td>\n",
       "      <td>2009</td>\n",
       "      <td>152000</td>\n",
       "      <td>1396</td>\n",
       "      <td>Gasoline</td>\n",
       "      <td>Wołczyn</td>\n",
       "      <td>Opolskie</td>\n",
       "      <td>19700</td>\n",
       "    </tr>\n",
       "    <tr>\n",
       "      <th>33931</th>\n",
       "      <td>33931</td>\n",
       "      <td>bmw</td>\n",
       "      <td>x4</td>\n",
       "      <td>gen-f26-2014%E2%80%932018</td>\n",
       "      <td>2018</td>\n",
       "      <td>115000</td>\n",
       "      <td>2993</td>\n",
       "      <td>Diesel</td>\n",
       "      <td>Wrocław</td>\n",
       "      <td>Dolnośląskie</td>\n",
       "      <td>262000</td>\n",
       "    </tr>\n",
       "    <tr>\n",
       "      <th>...</th>\n",
       "      <td>...</td>\n",
       "      <td>...</td>\n",
       "      <td>...</td>\n",
       "      <td>...</td>\n",
       "      <td>...</td>\n",
       "      <td>...</td>\n",
       "      <td>...</td>\n",
       "      <td>...</td>\n",
       "      <td>...</td>\n",
       "      <td>...</td>\n",
       "      <td>...</td>\n",
       "    </tr>\n",
       "    <tr>\n",
       "      <th>15656</th>\n",
       "      <td>15656</td>\n",
       "      <td>audi</td>\n",
       "      <td>a4</td>\n",
       "      <td>gen-b8-2007-2015</td>\n",
       "      <td>2008</td>\n",
       "      <td>158000</td>\n",
       "      <td>1984</td>\n",
       "      <td>Gasoline</td>\n",
       "      <td>Stary Sącz</td>\n",
       "      <td>Małopolskie</td>\n",
       "      <td>32900</td>\n",
       "    </tr>\n",
       "    <tr>\n",
       "      <th>17696</th>\n",
       "      <td>17696</td>\n",
       "      <td>audi</td>\n",
       "      <td>a5</td>\n",
       "      <td>gen-8t-2007-2016</td>\n",
       "      <td>2010</td>\n",
       "      <td>212500</td>\n",
       "      <td>1984</td>\n",
       "      <td>Gasoline</td>\n",
       "      <td>Łódź</td>\n",
       "      <td>Łódzkie</td>\n",
       "      <td>42900</td>\n",
       "    </tr>\n",
       "    <tr>\n",
       "      <th>46016</th>\n",
       "      <td>46016</td>\n",
       "      <td>ford</td>\n",
       "      <td>c-max</td>\n",
       "      <td>gen-ii-2010-c-max</td>\n",
       "      <td>2011</td>\n",
       "      <td>215000</td>\n",
       "      <td>1560</td>\n",
       "      <td>Diesel</td>\n",
       "      <td>Dąbrowa Górnicza</td>\n",
       "      <td>Śląskie</td>\n",
       "      <td>29999</td>\n",
       "    </tr>\n",
       "    <tr>\n",
       "      <th>116050</th>\n",
       "      <td>116050</td>\n",
       "      <td>volvo</td>\n",
       "      <td>xc-60</td>\n",
       "      <td>gen-i-2008-2017</td>\n",
       "      <td>2012</td>\n",
       "      <td>238962</td>\n",
       "      <td>2400</td>\n",
       "      <td>Diesel</td>\n",
       "      <td>Warszawa</td>\n",
       "      <td>Mazowieckie</td>\n",
       "      <td>69900</td>\n",
       "    </tr>\n",
       "    <tr>\n",
       "      <th>27895</th>\n",
       "      <td>27895</td>\n",
       "      <td>bmw</td>\n",
       "      <td>seria-3</td>\n",
       "      <td>gen-f30-2012</td>\n",
       "      <td>2018</td>\n",
       "      <td>199990</td>\n",
       "      <td>1995</td>\n",
       "      <td>Diesel</td>\n",
       "      <td>Katowice</td>\n",
       "      <td>Śląskie</td>\n",
       "      <td>89700</td>\n",
       "    </tr>\n",
       "  </tbody>\n",
       "</table>\n",
       "<p>117927 rows × 11 columns</p>\n",
       "</div>"
      ],
      "text/plain": [
       "        Unnamed: 0           mark      model            generation_name  year  \\\n",
       "34601        34601            bmw         x5          gen-e53-1999-2006  2003   \n",
       "35206        35206     volkswagen     arteon                        NaN  2021   \n",
       "57116        57116  mercedes-benz  glc-klasa                        NaN  2019   \n",
       "94882        94882            kia       ceed            gen-i-2006-2012  2009   \n",
       "33931        33931            bmw         x4  gen-f26-2014%E2%80%932018  2018   \n",
       "...            ...            ...        ...                        ...   ...   \n",
       "15656        15656           audi         a4           gen-b8-2007-2015  2008   \n",
       "17696        17696           audi         a5           gen-8t-2007-2016  2010   \n",
       "46016        46016           ford      c-max          gen-ii-2010-c-max  2011   \n",
       "116050      116050          volvo      xc-60            gen-i-2008-2017  2012   \n",
       "27895        27895            bmw    seria-3               gen-f30-2012  2018   \n",
       "\n",
       "        mileage  vol_engine      fuel              city            province  \\\n",
       "34601    239000        4398  Gasoline           Siedlce         Mazowieckie   \n",
       "35206      7000        1984  Gasoline         Włocławek  Kujawsko-pomorskie   \n",
       "57116     10000        1991  Gasoline           Staszów      Świętokrzyskie   \n",
       "94882    152000        1396  Gasoline           Wołczyn            Opolskie   \n",
       "33931    115000        2993    Diesel           Wrocław        Dolnośląskie   \n",
       "...         ...         ...       ...               ...                 ...   \n",
       "15656    158000        1984  Gasoline        Stary Sącz         Małopolskie   \n",
       "17696    212500        1984  Gasoline              Łódź             Łódzkie   \n",
       "46016    215000        1560    Diesel  Dąbrowa Górnicza             Śląskie   \n",
       "116050   238962        2400    Diesel          Warszawa         Mazowieckie   \n",
       "27895    199990        1995    Diesel          Katowice             Śląskie   \n",
       "\n",
       "         price  \n",
       "34601    29900  \n",
       "35206   189900  \n",
       "57116   220000  \n",
       "94882    19700  \n",
       "33931   262000  \n",
       "...        ...  \n",
       "15656    32900  \n",
       "17696    42900  \n",
       "46016    29999  \n",
       "116050   69900  \n",
       "27895    89700  \n",
       "\n",
       "[117927 rows x 11 columns]"
      ]
     },
     "execution_count": 4,
     "metadata": {},
     "output_type": "execute_result"
    }
   ],
   "source": [
    "# Lets shuffle them to prevent unwanted patterns\n",
    "data_shuffled = data.sample(frac=1)\n",
    "data_shuffled"
   ]
  },
  {
   "cell_type": "code",
   "execution_count": 5,
   "id": "e38b88c4",
   "metadata": {},
   "outputs": [
    {
     "data": {
      "text/plain": [
       "(117927, 11)"
      ]
     },
     "execution_count": 5,
     "metadata": {},
     "output_type": "execute_result"
    }
   ],
   "source": [
    "# We have over 100.000 rows\n",
    "data_shuffled.shape"
   ]
  },
  {
   "cell_type": "code",
   "execution_count": 6,
   "id": "09477c92",
   "metadata": {},
   "outputs": [
    {
     "data": {
      "text/plain": [
       "Unnamed: 0          int64\n",
       "mark               object\n",
       "model              object\n",
       "generation_name    object\n",
       "year                int64\n",
       "mileage             int64\n",
       "vol_engine          int64\n",
       "fuel               object\n",
       "city               object\n",
       "province           object\n",
       "price               int64\n",
       "dtype: object"
      ]
     },
     "execution_count": 6,
     "metadata": {},
     "output_type": "execute_result"
    }
   ],
   "source": [
    "# We have non numerical values, we´ll have to encode them\n",
    "data_shuffled.dtypes"
   ]
  },
  {
   "cell_type": "code",
   "execution_count": 7,
   "id": "7bb48e58",
   "metadata": {},
   "outputs": [
    {
     "data": {
      "text/plain": [
       "Unnamed: 0             0\n",
       "mark                   0\n",
       "model                  0\n",
       "generation_name    30085\n",
       "year                   0\n",
       "mileage                0\n",
       "vol_engine             0\n",
       "fuel                   0\n",
       "city                   0\n",
       "province               0\n",
       "price                  0\n",
       "dtype: int64"
      ]
     },
     "execution_count": 7,
     "metadata": {},
     "output_type": "execute_result"
    }
   ],
   "source": [
    "# 30% of the generation_name column values are NaNs, we´ll just drop that one later.\n",
    "data_shuffled.isna().sum()"
   ]
  },
  {
   "cell_type": "code",
   "execution_count": 8,
   "id": "cebf3c43",
   "metadata": {
    "scrolled": false
   },
   "outputs": [
    {
     "data": {
      "image/png": "[encoded data removed]",
      "text/plain": [
       "<Figure size 720x720 with 2 Axes>"
      ]
     },
     "metadata": {
      "needs_background": "light"
     },
     "output_type": "display_data"
    }
   ],
   "source": [
    "# Generation matrix: Besides unnamed0, all numerical columns seem important.\n",
    "corr_matrix = data_shuffled.corr()\n",
    "fig, ax = plt.subplots(figsize=(10, 10))\n",
    "ax = sns.heatmap(corr_matrix, \n",
    "                 annot=True,\n",
    "                 linewidths=0.5,\n",
    "                 fmt=\".2f\",\n",
    "                 cmap=\"YlGnBu\")"
   ]
  },
  {
   "cell_type": "code",
   "execution_count": 9,
   "id": "d5058097",
   "metadata": {},
   "outputs": [
    {
     "data": {
      "image/png": "[encoded data removed]",
      "text/plain": [
       "<Figure size 1800x720 with 1 Axes>"
      ]
     },
     "metadata": {},
     "output_type": "display_data"
    }
   ],
   "source": [
    "# Let´s see the distribution by mark.\n",
    "\n",
    "plt.style.use(\"seaborn\")\n",
    "fig, ax = plt.subplots(figsize=(25, 10))\n",
    "\n",
    "ax = data_shuffled[\"mark\"].value_counts().plot(kind=\"bar\")\n",
    "ax.set_ylabel(\"Cantidad\", fontsize=16)\n",
    "ax.set_title(\"Cantidad de autos por marca\", fontsize=16)\n",
    "for label in ax.get_xticklabels() + ax.get_yticklabels():\n",
    "    label.set_fontsize(16)"
   ]
  },
  {
   "cell_type": "markdown",
   "id": "577b1c1b",
   "metadata": {},
   "source": [
    "## Preprocessing"
   ]
  },
  {
   "cell_type": "code",
   "execution_count": 10,
   "id": "a856e4c9",
   "metadata": {},
   "outputs": [],
   "source": [
    "# First i´ll drop some columnes that are irrelevant when it comes to predicting the price\n",
    "data_shuffled_drop = data_shuffled.drop([\"city\",\n",
    "                                         \"province\", \n",
    "                                         \"generation_name\", \n",
    "                                         \"Unnamed: 0\"],\n",
    "                                         axis=1\n",
    "                                        )\n",
    "data_shuffled_drop.shape\n",
    "data_shuffled_drop.head()"
   ]
  },
  {
   "cell_type": "code",
   "execution_count": 11,
   "id": "7f8efecc",
   "metadata": {},
   "outputs": [
    {
     "data": {
      "text/html": [
       "<div>\n",
       "<style scoped>\n",
       "    .dataframe tbody tr th:only-of-type {\n",
       "        vertical-align: middle;\n",
       "    }\n",
       "\n",
       "    .dataframe tbody tr th {\n",
       "        vertical-align: top;\n",
       "    }\n",
       "\n",
       "    .dataframe thead th {\n",
       "        text-align: right;\n",
       "    }\n",
       "</style>\n",
       "<table border=\"1\" class=\"dataframe\">\n",
       "  <thead>\n",
       "    <tr style=\"text-align: right;\">\n",
       "      <th></th>\n",
       "      <th>year</th>\n",
       "      <th>mileage</th>\n",
       "      <th>vol_engine</th>\n",
       "      <th>mark_alfa-romeo</th>\n",
       "      <th>mark_audi</th>\n",
       "      <th>mark_bmw</th>\n",
       "      <th>mark_chevrolet</th>\n",
       "      <th>mark_citroen</th>\n",
       "      <th>mark_fiat</th>\n",
       "      <th>mark_ford</th>\n",
       "      <th>...</th>\n",
       "      <th>model_yaris</th>\n",
       "      <th>model_yeti</th>\n",
       "      <th>model_zafira</th>\n",
       "      <th>model_zoe</th>\n",
       "      <th>fuel_CNG</th>\n",
       "      <th>fuel_Diesel</th>\n",
       "      <th>fuel_Electric</th>\n",
       "      <th>fuel_Gasoline</th>\n",
       "      <th>fuel_Hybrid</th>\n",
       "      <th>fuel_LPG</th>\n",
       "    </tr>\n",
       "  </thead>\n",
       "  <tbody>\n",
       "    <tr>\n",
       "      <th>34601</th>\n",
       "      <td>2003</td>\n",
       "      <td>239000</td>\n",
       "      <td>4398</td>\n",
       "      <td>0</td>\n",
       "      <td>0</td>\n",
       "      <td>1</td>\n",
       "      <td>0</td>\n",
       "      <td>0</td>\n",
       "      <td>0</td>\n",
       "      <td>0</td>\n",
       "      <td>...</td>\n",
       "      <td>0</td>\n",
       "      <td>0</td>\n",
       "      <td>0</td>\n",
       "      <td>0</td>\n",
       "      <td>0</td>\n",
       "      <td>0</td>\n",
       "      <td>0</td>\n",
       "      <td>1</td>\n",
       "      <td>0</td>\n",
       "      <td>0</td>\n",
       "    </tr>\n",
       "    <tr>\n",
       "      <th>35206</th>\n",
       "      <td>2021</td>\n",
       "      <td>7000</td>\n",
       "      <td>1984</td>\n",
       "      <td>0</td>\n",
       "      <td>0</td>\n",
       "      <td>0</td>\n",
       "      <td>0</td>\n",
       "      <td>0</td>\n",
       "      <td>0</td>\n",
       "      <td>0</td>\n",
       "      <td>...</td>\n",
       "      <td>0</td>\n",
       "      <td>0</td>\n",
       "      <td>0</td>\n",
       "      <td>0</td>\n",
       "      <td>0</td>\n",
       "      <td>0</td>\n",
       "      <td>0</td>\n",
       "      <td>1</td>\n",
       "      <td>0</td>\n",
       "      <td>0</td>\n",
       "    </tr>\n",
       "    <tr>\n",
       "      <th>57116</th>\n",
       "      <td>2019</td>\n",
       "      <td>10000</td>\n",
       "      <td>1991</td>\n",
       "      <td>0</td>\n",
       "      <td>0</td>\n",
       "      <td>0</td>\n",
       "      <td>0</td>\n",
       "      <td>0</td>\n",
       "      <td>0</td>\n",
       "      <td>0</td>\n",
       "      <td>...</td>\n",
       "      <td>0</td>\n",
       "      <td>0</td>\n",
       "      <td>0</td>\n",
       "      <td>0</td>\n",
       "      <td>0</td>\n",
       "      <td>0</td>\n",
       "      <td>0</td>\n",
       "      <td>1</td>\n",
       "      <td>0</td>\n",
       "      <td>0</td>\n",
       "    </tr>\n",
       "    <tr>\n",
       "      <th>94882</th>\n",
       "      <td>2009</td>\n",
       "      <td>152000</td>\n",
       "      <td>1396</td>\n",
       "      <td>0</td>\n",
       "      <td>0</td>\n",
       "      <td>0</td>\n",
       "      <td>0</td>\n",
       "      <td>0</td>\n",
       "      <td>0</td>\n",
       "      <td>0</td>\n",
       "      <td>...</td>\n",
       "      <td>0</td>\n",
       "      <td>0</td>\n",
       "      <td>0</td>\n",
       "      <td>0</td>\n",
       "      <td>0</td>\n",
       "      <td>0</td>\n",
       "      <td>0</td>\n",
       "      <td>1</td>\n",
       "      <td>0</td>\n",
       "      <td>0</td>\n",
       "    </tr>\n",
       "    <tr>\n",
       "      <th>33931</th>\n",
       "      <td>2018</td>\n",
       "      <td>115000</td>\n",
       "      <td>2993</td>\n",
       "      <td>0</td>\n",
       "      <td>0</td>\n",
       "      <td>1</td>\n",
       "      <td>0</td>\n",
       "      <td>0</td>\n",
       "      <td>0</td>\n",
       "      <td>0</td>\n",
       "      <td>...</td>\n",
       "      <td>0</td>\n",
       "      <td>0</td>\n",
       "      <td>0</td>\n",
       "      <td>0</td>\n",
       "      <td>0</td>\n",
       "      <td>1</td>\n",
       "      <td>0</td>\n",
       "      <td>0</td>\n",
       "      <td>0</td>\n",
       "      <td>0</td>\n",
       "    </tr>\n",
       "  </tbody>\n",
       "</table>\n",
       "<p>5 rows × 360 columns</p>\n",
       "</div>"
      ],
      "text/plain": [
       "       year  mileage  vol_engine  mark_alfa-romeo  mark_audi  mark_bmw  \\\n",
       "34601  2003   239000        4398                0          0         1   \n",
       "35206  2021     7000        1984                0          0         0   \n",
       "57116  2019    10000        1991                0          0         0   \n",
       "94882  2009   152000        1396                0          0         0   \n",
       "33931  2018   115000        2993                0          0         1   \n",
       "\n",
       "       mark_chevrolet  mark_citroen  mark_fiat  mark_ford  ...  model_yaris  \\\n",
       "34601               0             0          0          0  ...            0   \n",
       "35206               0             0          0          0  ...            0   \n",
       "57116               0             0          0          0  ...            0   \n",
       "94882               0             0          0          0  ...            0   \n",
       "33931               0             0          0          0  ...            0   \n",
       "\n",
       "       model_yeti  model_zafira  model_zoe  fuel_CNG  fuel_Diesel  \\\n",
       "34601           0             0          0         0            0   \n",
       "35206           0             0          0         0            0   \n",
       "57116           0             0          0         0            0   \n",
       "94882           0             0          0         0            0   \n",
       "33931           0             0          0         0            1   \n",
       "\n",
       "       fuel_Electric  fuel_Gasoline  fuel_Hybrid  fuel_LPG  \n",
       "34601              0              1            0         0  \n",
       "35206              0              1            0         0  \n",
       "57116              0              1            0         0  \n",
       "94882              0              1            0         0  \n",
       "33931              0              0            0         0  \n",
       "\n",
       "[5 rows x 360 columns]"
      ]
     },
     "execution_count": 11,
     "metadata": {},
     "output_type": "execute_result"
    }
   ],
   "source": [
    "# Let´s split the data in atributes and targets\n",
    "X = data_shuffled_drop.drop(\"price\", axis=1)\n",
    "y = data_shuffled_drop[\"price\"]\n",
    "\n",
    "# I´ll codify the not numerical columns\n",
    "X = pd.get_dummies(X)\n",
    "X.head()"
   ]
  },
  {
   "cell_type": "code",
   "execution_count": 12,
   "id": "838cc16a",
   "metadata": {},
   "outputs": [
    {
     "name": "stdout",
     "output_type": "stream",
     "text": [
      "(117927, 360)\n",
      "There are: 328 diferent car marks in the data\n"
     ]
    }
   ],
   "source": [
    "# We get 360 columns, becouse of the amount of car marks. Still, i´ll preserve that data, it´s important.\n",
    "\n",
    "print(X.shape)\n",
    "print(\"There are:\", len(data_shuffled_drop[\"model\"].value_counts()), \"diferent car marks in the data\")"
   ]
  },
  {
   "cell_type": "code",
   "execution_count": 13,
   "id": "093cd18e",
   "metadata": {},
   "outputs": [
    {
     "name": "stdout",
     "output_type": "stream",
     "text": [
      "(94341, 360)\n",
      "(94341,)\n",
      "(23586, 360)\n",
      "(23586,)\n"
     ]
    }
   ],
   "source": [
    "# train, test split\n",
    "X_train, X_test, y_train, y_test = train_test_split(X, y, test_size=0.2)\n",
    "print(X_train.shape)\n",
    "print(y_train.shape)\n",
    "print(X_test.shape)\n",
    "print(y_test.shape)"
   ]
  },
  {
   "cell_type": "markdown",
   "id": "c0e01c80",
   "metadata": {},
   "source": [
    "# Modeling\n",
    "\n",
    "The used models were selected using the map in the folowing link.\n",
    "https://scikit-learn.org/stable/tutorial/machine_learning_map/index.html\n",
    "\n",
    "Used models: \n",
    "\n",
    "* RandomForestRegressor (ensemble)\n",
    "* GradientBoostingRegressor (ensemble)"
   ]
  },
  {
   "cell_type": "code",
   "execution_count": 14,
   "id": "13b13c4b",
   "metadata": {},
   "outputs": [],
   "source": [
    "# Let´s instanciate the models\n",
    "\n",
    "RFR = RandomForestRegressor()\n",
    "GBR = GradientBoostingRegressor()"
   ]
  },
  {
   "cell_type": "code",
   "execution_count": null,
   "id": "1710cce5",
   "metadata": {},
   "outputs": [
    {
     "name": "stdout",
     "output_type": "stream",
     "text": [
      "RandomForest: 0.9361038039466358\n"
     ]
    }
   ],
   "source": [
    "np.random.seed(42)\n",
    "\n",
    "# A quick test\n",
    "RFR.fit(X_train, y_train)\n",
    "print(\"RandomForest:\", RFR.score(X_test, y_test))\n",
    "\n",
    "GBR.fit(X_train, y_train)\n",
    "print(\"GradientBoost:\", GBR.score(X_test, y_test))"
   ]
  },
  {
   "cell_type": "markdown",
   "id": "bad375ba",
   "metadata": {},
   "source": [
    "RFR got the highes r2, let´s see wich one is the fastest when it comes to predicting."
   ]
  },
  {
   "cell_type": "code",
   "execution_count": null,
   "id": "2722032a",
   "metadata": {},
   "outputs": [],
   "source": [
    "%timeit RFR.score(X_test, y_test)"
   ]
  },
  {
   "cell_type": "code",
   "execution_count": null,
   "id": "89beab2d",
   "metadata": {},
   "outputs": [],
   "source": [
    "%timeit GBR.score(X_test, y_test)"
   ]
  },
  {
   "cell_type": "markdown",
   "id": "9654d4cf",
   "metadata": {},
   "source": [
    "Gradient boost is way faster\n",
    "\n",
    "Let´s cross validate the models to have a more solid idea of their performance in our data"
   ]
  },
  {
   "cell_type": "code",
   "execution_count": null,
   "id": "52753ea3",
   "metadata": {},
   "outputs": [],
   "source": [
    "#Para RandomForest\n",
    "np.random.seed(42)\n",
    "cv_acc_RFR = cross_val_score (RFR,\n",
    "                              X_train,\n",
    "                              y_train, cv=5,\n",
    "                              verbose = 10,\n",
    "                              scoring = \"r2\", \n",
    "                              n_jobs=-1)\n",
    "np.mean(cv_acc_RFR)"
   ]
  },
  {
   "cell_type": "code",
   "execution_count": null,
   "id": "18e31678",
   "metadata": {},
   "outputs": [],
   "source": [
    "# Para GradientBoosting\n",
    "np.random.seed(42)\n",
    "cv_acc_GradBoost = cross_val_score (GBR, \n",
    "                                    X_train,\n",
    "                                    y_train, cv=5,\n",
    "                                    verbose = 10,\n",
    "                                    scoring = \"r2\",\n",
    "                                    n_jobs=-1)\n",
    "np.mean(cv_acc_GradBoost)"
   ]
  },
  {
   "cell_type": "markdown",
   "id": "c71c21cf",
   "metadata": {},
   "source": [
    "Random forest is still superior, i´ll choose it as my model.\n",
    "\n",
    "\n",
    "In the next section i´ll tune RandomForestRegressor hyperparámeters."
   ]
  },
  {
   "cell_type": "markdown",
   "id": "41ef0744",
   "metadata": {},
   "source": [
    "# Hyperparámeter tuning: Random Forest Regressor"
   ]
  },
  {
   "cell_type": "code",
   "execution_count": null,
   "id": "ff1a6e86",
   "metadata": {},
   "outputs": [],
   "source": [
    "# Let´s remember the model´s hyperparameters\n",
    "RFR.get_params()"
   ]
  },
  {
   "cell_type": "code",
   "execution_count": null,
   "id": "16fdcdce",
   "metadata": {},
   "outputs": [],
   "source": [
    "# A grid with the hyperparameters we´ll try\n",
    "\n",
    "RFR_grid = {'bootstrap': [True, False],\n",
    " 'min_samples_leaf': [1, 4],\n",
    " 'min_samples_split': [2, 5],\n",
    " 'n_estimators': [100]}"
   ]
  },
  {
   "cell_type": "markdown",
   "id": "242b4b36",
   "metadata": {},
   "source": [
    "The next cell takes a lot of time to be executed!"
   ]
  },
  {
   "cell_type": "code",
   "execution_count": null,
   "id": "f58acd74",
   "metadata": {},
   "outputs": [],
   "source": [
    "\"\"\"\n",
    "rs_RFR = RandomizedSearchCV(estimator=RFR,\n",
    "                            param_distributions=RFR_grid,\n",
    "                            n_iter=10, \n",
    "                            cv=4, \n",
    "                            verbose=10,\n",
    "                            n_jobs = -1)\n",
    "\n",
    "rs_RFR.fit(X_train, y_train)\n",
    "\n",
    "# These are the best hyperparámeters found\n",
    "rs_RFR.best_params_\"\"\""
   ]
  },
  {
   "cell_type": "markdown",
   "id": "00d3f95d",
   "metadata": {},
   "source": [
    "{'n_estimators': 100,\n",
    " 'min_samples_split': 5,\n",
    " 'min_samples_leaf': 1,\n",
    " 'bootstrap': True}"
   ]
  },
  {
   "cell_type": "markdown",
   "id": "1457f943",
   "metadata": {},
   "source": [
    "Let´s create an instance of RandomForestRegressor with the best hyperparámeters found, and test it using cross validation"
   ]
  },
  {
   "cell_type": "code",
   "execution_count": null,
   "id": "26e38c1e",
   "metadata": {},
   "outputs": [],
   "source": [
    "RFR_bp = RandomForestRegressor (n_estimators= 200,\n",
    "                                min_samples_split= 5,\n",
    "                                min_samples_leaf= 1,\n",
    "                                bootstrap= True)\n",
    "\n",
    "cv_acc_RFR_bp = cross_val_score (RFR_bp,\n",
    "                                 X,\n",
    "                                 y, \n",
    "                                 cv=5,\n",
    "                                 verbose = 10,\n",
    "                                 scoring = \"r2\", \n",
    "                                 n_jobs=-1)\n",
    "np.mean(cv_acc_RFR_bp)"
   ]
  },
  {
   "cell_type": "markdown",
   "id": "b761ab5c",
   "metadata": {},
   "source": [
    "Note: I also tried tuning GradientBoosting hyperparámeters, but i did´nt get any improvment. \n"
   ]
  },
  {
   "cell_type": "markdown",
   "id": "ddfccd5d",
   "metadata": {},
   "source": [
    "# Evaluating the model (RandomForest):\n",
    "\n",
    "The metrics we´ll use to evaluate the model are:\n",
    "\n",
    "* R2 (again in these section for completeness)\n",
    "* mean absolute error\n",
    "* mean percentual error"
   ]
  },
  {
   "cell_type": "code",
   "execution_count": null,
   "id": "48f39e8f",
   "metadata": {},
   "outputs": [],
   "source": [
    "#RFR best params\n",
    "RFR_bp = RandomForestRegressor(n_estimators = 150)"
   ]
  },
  {
   "cell_type": "code",
   "execution_count": null,
   "id": "9d40e432",
   "metadata": {},
   "outputs": [],
   "source": [
    "cv_r2 = cross_val_score(RFR_bp, \n",
    "                         X, \n",
    "                         y, \n",
    "                         cv=4, \n",
    "                         verbose = 1,\n",
    "                         scoring=\"r2\",\n",
    "                         n_jobs = -1)\n",
    "\n",
    "print(f\"RandomForest r2: {np.mean(cv_r2):.2f}\")"
   ]
  },
  {
   "cell_type": "code",
   "execution_count": null,
   "id": "f240995f",
   "metadata": {},
   "outputs": [],
   "source": [
    "cv_mae = cross_val_score(RFR_bp, \n",
    "                         X, \n",
    "                         y, \n",
    "                         cv=4, \n",
    "                         verbose = 1,\n",
    "                         scoring=\"neg_mean_absolute_error\",\n",
    "                         n_jobs = -1)\n",
    "\n",
    "print(f\"RandomForest MAE: {-np.mean(cv_mae):.2f}\")"
   ]
  },
  {
   "cell_type": "code",
   "execution_count": null,
   "id": "e72fe550",
   "metadata": {},
   "outputs": [],
   "source": [
    "cv_mape = cross_val_score(RFR_bp, \n",
    "                         X, \n",
    "                         y, \n",
    "                         cv=4, \n",
    "                         verbose = 0,\n",
    "                         scoring=\"neg_mean_absolute_percentage_error\",\n",
    "                         n_jobs = -1)\n",
    "\n",
    "print(f\"RandomForest MPE: {-np.mean(cv_mape):.2f}\")"
   ]
  }
 ],
 "metadata": {
  "kernelspec": {
   "display_name": "Python 3 (ipykernel)",
   "language": "python",
   "name": "python3"
  },
  "language_info": {
   "codemirror_mode": {
    "name": "ipython",
    "version": 3
   },
   "file_extension": ".py",
   "mimetype": "text/x-python",
   "name": "python",
   "nbconvert_exporter": "python",
   "pygments_lexer": "ipython3",
   "version": "3.9.7"
  }
 },
 "nbformat": 4,
 "nbformat_minor": 5
}
