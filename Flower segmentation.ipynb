{
 "cells": [
  {
   "cell_type": "markdown",
   "id": "772841d6",
   "metadata": {},
   "source": [
    "# Flowers classification per species (Basic Proyect)"
   ]
  },
  {
   "cell_type": "markdown",
   "id": "101c1532",
   "metadata": {},
   "source": [
    "In this notebook, i used the KMeans model from Sklearn to create an algorithm capable of distinguishing different flower species by anlyzing their dimensions (leaf length for example). The Analyzed dataset was taken from the following link: https://github.com/theengineeringworld/Python-data-science/blob/master/iris.csv. "
   ]
  },
  {
   "cell_type": "markdown",
   "id": "fb434b03",
   "metadata": {},
   "source": [
    "## Importo las herramientas necesarias"
   ]
  },
  {
   "cell_type": "code",
   "execution_count": 29,
   "id": "6ebea155",
   "metadata": {},
   "outputs": [],
   "source": [
    "#Libraries\n",
    "\n",
    "import numpy as np\n",
    "import pandas as pd\n",
    "import sklearn\n",
    "import mysql.connector\n",
    "\n",
    "# To get inline plotes\n",
    "import matplotlib.pyplot as plt\n",
    "\n",
    "# Sklearn functions\n",
    "from sklearn.cluster import KMeans\n",
    "from sklearn.preprocessing import MinMaxScaler\n",
    "from sklearn.metrics import classification_report\n",
    "\n",
    "%matplotlib inline"
   ]
  },
  {
   "cell_type": "markdown",
   "id": "04ea09cd",
   "metadata": {},
   "source": [
    "## Load / Analyze the data"
   ]
  },
  {
   "cell_type": "code",
   "execution_count": 30,
   "id": "0dab2b03",
   "metadata": {},
   "outputs": [
    {
     "data": {
      "text/html": [
       "<div>\n",
       "<style scoped>\n",
       "    .dataframe tbody tr th:only-of-type {\n",
       "        vertical-align: middle;\n",
       "    }\n",
       "\n",
       "    .dataframe tbody tr th {\n",
       "        vertical-align: top;\n",
       "    }\n",
       "\n",
       "    .dataframe thead th {\n",
       "        text-align: right;\n",
       "    }\n",
       "</style>\n",
       "<table border=\"1\" class=\"dataframe\">\n",
       "  <thead>\n",
       "    <tr style=\"text-align: right;\">\n",
       "      <th></th>\n",
       "      <th>MyUnknownColumn</th>\n",
       "      <th>Sepal.Length</th>\n",
       "      <th>Sepal.Width</th>\n",
       "      <th>Petal.Length</th>\n",
       "      <th>Petal.Width</th>\n",
       "      <th>Species</th>\n",
       "    </tr>\n",
       "  </thead>\n",
       "  <tbody>\n",
       "    <tr>\n",
       "      <th>0</th>\n",
       "      <td>1</td>\n",
       "      <td>5.1</td>\n",
       "      <td>3.5</td>\n",
       "      <td>1.4</td>\n",
       "      <td>0.2</td>\n",
       "      <td>setosa</td>\n",
       "    </tr>\n",
       "    <tr>\n",
       "      <th>1</th>\n",
       "      <td>2</td>\n",
       "      <td>4.9</td>\n",
       "      <td>3.0</td>\n",
       "      <td>1.4</td>\n",
       "      <td>0.2</td>\n",
       "      <td>setosa</td>\n",
       "    </tr>\n",
       "    <tr>\n",
       "      <th>2</th>\n",
       "      <td>3</td>\n",
       "      <td>4.7</td>\n",
       "      <td>3.2</td>\n",
       "      <td>1.3</td>\n",
       "      <td>0.2</td>\n",
       "      <td>setosa</td>\n",
       "    </tr>\n",
       "    <tr>\n",
       "      <th>3</th>\n",
       "      <td>4</td>\n",
       "      <td>4.6</td>\n",
       "      <td>3.1</td>\n",
       "      <td>1.5</td>\n",
       "      <td>0.2</td>\n",
       "      <td>setosa</td>\n",
       "    </tr>\n",
       "    <tr>\n",
       "      <th>4</th>\n",
       "      <td>5</td>\n",
       "      <td>5.0</td>\n",
       "      <td>3.6</td>\n",
       "      <td>1.4</td>\n",
       "      <td>0.2</td>\n",
       "      <td>setosa</td>\n",
       "    </tr>\n",
       "  </tbody>\n",
       "</table>\n",
       "</div>"
      ],
      "text/plain": [
       "   MyUnknownColumn  Sepal.Length  Sepal.Width  Petal.Length  Petal.Width  \\\n",
       "0                1           5.1          3.5           1.4          0.2   \n",
       "1                2           4.9          3.0           1.4          0.2   \n",
       "2                3           4.7          3.2           1.3          0.2   \n",
       "3                4           4.6          3.1           1.5          0.2   \n",
       "4                5           5.0          3.6           1.4          0.2   \n",
       "\n",
       "  Species  \n",
       "0  setosa  \n",
       "1  setosa  \n",
       "2  setosa  \n",
       "3  setosa  \n",
       "4  setosa  "
      ]
     },
     "execution_count": 30,
     "metadata": {},
     "output_type": "execute_result"
    }
   ],
   "source": [
    "db = mysql.connector.connect(\n",
    "    host = \"localhost\",\n",
    "    user=\"root\",\n",
    "    password=\"SAntafeclan1\"\n",
    "    )\n",
    "\n",
    "mycursor = db.cursor()\n",
    "mycursor.execute(\"use proyectos\")\n",
    "\n",
    "df = pd.read_sql(\"SELECT * FROM flowers\", con = db)\n",
    "df.head()"
   ]
  },
  {
   "cell_type": "markdown",
   "id": "4b20c2e9",
   "metadata": {},
   "source": [
    "We have a \"Species\" column. In a real life scenario, this column would not exist, bout being this a study proyect, \n",
    "the information given by that column will be useful to check how well our model performed."
   ]
  },
  {
   "cell_type": "code",
   "execution_count": 31,
   "id": "c249b6db",
   "metadata": {},
   "outputs": [
    {
     "data": {
      "text/html": [
       "<div>\n",
       "<style scoped>\n",
       "    .dataframe tbody tr th:only-of-type {\n",
       "        vertical-align: middle;\n",
       "    }\n",
       "\n",
       "    .dataframe tbody tr th {\n",
       "        vertical-align: top;\n",
       "    }\n",
       "\n",
       "    .dataframe thead th {\n",
       "        text-align: right;\n",
       "    }\n",
       "</style>\n",
       "<table border=\"1\" class=\"dataframe\">\n",
       "  <thead>\n",
       "    <tr style=\"text-align: right;\">\n",
       "      <th></th>\n",
       "      <th>unnamed</th>\n",
       "      <th>sepal length</th>\n",
       "      <th>sepal width</th>\n",
       "      <th>petal length</th>\n",
       "      <th>petal width</th>\n",
       "      <th>species</th>\n",
       "    </tr>\n",
       "  </thead>\n",
       "  <tbody>\n",
       "    <tr>\n",
       "      <th>0</th>\n",
       "      <td>1</td>\n",
       "      <td>5.1</td>\n",
       "      <td>3.5</td>\n",
       "      <td>1.4</td>\n",
       "      <td>0.2</td>\n",
       "      <td>setosa</td>\n",
       "    </tr>\n",
       "    <tr>\n",
       "      <th>1</th>\n",
       "      <td>2</td>\n",
       "      <td>4.9</td>\n",
       "      <td>3.0</td>\n",
       "      <td>1.4</td>\n",
       "      <td>0.2</td>\n",
       "      <td>setosa</td>\n",
       "    </tr>\n",
       "    <tr>\n",
       "      <th>2</th>\n",
       "      <td>3</td>\n",
       "      <td>4.7</td>\n",
       "      <td>3.2</td>\n",
       "      <td>1.3</td>\n",
       "      <td>0.2</td>\n",
       "      <td>setosa</td>\n",
       "    </tr>\n",
       "  </tbody>\n",
       "</table>\n",
       "</div>"
      ],
      "text/plain": [
       "   unnamed  sepal length  sepal width  petal length  petal width species\n",
       "0        1           5.1          3.5           1.4          0.2  setosa\n",
       "1        2           4.9          3.0           1.4          0.2  setosa\n",
       "2        3           4.7          3.2           1.3          0.2  setosa"
      ]
     },
     "execution_count": 31,
     "metadata": {},
     "output_type": "execute_result"
    }
   ],
   "source": [
    "# I tidy up the column names\n",
    "df.set_axis([\"unnamed\", \n",
    "             \"sepal length\",\n",
    "             \"sepal width\", \n",
    "             \"petal length\",\n",
    "             \"petal width\", \n",
    "             \"species\"],\n",
    "             axis=1, \n",
    "             inplace=True)\n",
    "df.head(3)"
   ]
  },
  {
   "cell_type": "code",
   "execution_count": 32,
   "id": "decd7f68",
   "metadata": {},
   "outputs": [
    {
     "data": {
      "text/plain": [
       "setosa        50\n",
       "versicolor    50\n",
       "virginica     50\n",
       "Name: species, dtype: int64"
      ]
     },
     "execution_count": 32,
     "metadata": {},
     "output_type": "execute_result"
    }
   ],
   "source": [
    "# divide in features (X) and target (y)\n",
    "X = df.drop([\"species\", \"unnamed\"], axis=1)\n",
    "y = df[\"species\"]\n",
    "y.value_counts()"
   ]
  },
  {
   "cell_type": "code",
   "execution_count": 33,
   "id": "4975594e",
   "metadata": {},
   "outputs": [
    {
     "data": {
      "text/html": [
       "<div>\n",
       "<style scoped>\n",
       "    .dataframe tbody tr th:only-of-type {\n",
       "        vertical-align: middle;\n",
       "    }\n",
       "\n",
       "    .dataframe tbody tr th {\n",
       "        vertical-align: top;\n",
       "    }\n",
       "\n",
       "    .dataframe thead th {\n",
       "        text-align: right;\n",
       "    }\n",
       "</style>\n",
       "<table border=\"1\" class=\"dataframe\">\n",
       "  <thead>\n",
       "    <tr style=\"text-align: right;\">\n",
       "      <th></th>\n",
       "      <th>0</th>\n",
       "      <th>1</th>\n",
       "      <th>2</th>\n",
       "      <th>3</th>\n",
       "    </tr>\n",
       "  </thead>\n",
       "  <tbody>\n",
       "    <tr>\n",
       "      <th>0</th>\n",
       "      <td>0.222222</td>\n",
       "      <td>0.625000</td>\n",
       "      <td>0.067797</td>\n",
       "      <td>0.041667</td>\n",
       "    </tr>\n",
       "    <tr>\n",
       "      <th>1</th>\n",
       "      <td>0.166667</td>\n",
       "      <td>0.416667</td>\n",
       "      <td>0.067797</td>\n",
       "      <td>0.041667</td>\n",
       "    </tr>\n",
       "    <tr>\n",
       "      <th>2</th>\n",
       "      <td>0.111111</td>\n",
       "      <td>0.500000</td>\n",
       "      <td>0.050847</td>\n",
       "      <td>0.041667</td>\n",
       "    </tr>\n",
       "  </tbody>\n",
       "</table>\n",
       "</div>"
      ],
      "text/plain": [
       "          0         1         2         3\n",
       "0  0.222222  0.625000  0.067797  0.041667\n",
       "1  0.166667  0.416667  0.067797  0.041667\n",
       "2  0.111111  0.500000  0.050847  0.041667"
      ]
     },
     "execution_count": 33,
     "metadata": {},
     "output_type": "execute_result"
    }
   ],
   "source": [
    "# Scale the features\n",
    "min_max_scaler = MinMaxScaler()\n",
    "X = min_max_scaler.fit_transform(X)\n",
    "X = pd.DataFrame(X)\n",
    "X.head(3)"
   ]
  },
  {
   "cell_type": "markdown",
   "id": "ff271ecb",
   "metadata": {},
   "source": [
    "# Clustering "
   ]
  },
  {
   "cell_type": "code",
   "execution_count": 34,
   "id": "ea521742",
   "metadata": {},
   "outputs": [
    {
     "data": {
      "text/plain": [
       "KMeans(max_iter=380, n_clusters=3, n_init=80)"
      ]
     },
     "execution_count": 34,
     "metadata": {},
     "output_type": "execute_result"
    }
   ],
   "source": [
    "# Create an instance for KMeans with 3 clusters (the ammount of species in the data is known)\n",
    "np.random.seed(42)\n",
    "clustering = KMeans(n_clusters = 3, \n",
    "                    n_init = 80, \n",
    "                    max_iter= 380)\n",
    "# Fit\n",
    "clustering.fit(X)"
   ]
  },
  {
   "cell_type": "code",
   "execution_count": 35,
   "id": "5e907b53",
   "metadata": {},
   "outputs": [],
   "source": [
    "# Create an DataFrame with the real labels\n",
    "real_labels = pd.DataFrame(y)\n",
    "# Create an array with the predicted labels\n",
    "predicted_labels = clustering.labels_\n",
    "\n",
    "# Change the species names for numbers in the real labels DataFrame\n",
    "real_labels.replace(\"setosa\",1, inplace = True )\n",
    "real_labels.replace(\"virginica\", 0, inplace = True)\n",
    "real_labels.replace(\"versicolor\", 2, inplace = True) \n",
    "real_labels = np.array(real_labels) # Make it an array again"
   ]
  },
  {
   "cell_type": "markdown",
   "id": "ed8e4db9",
   "metadata": {},
   "source": [
    "# Plotting model outputs"
   ]
  },
  {
   "cell_type": "code",
   "execution_count": 36,
   "id": "1c407666",
   "metadata": {},
   "outputs": [
    {
     "data": {
      "image/png": "[encoded data removed]",
      "text/plain": [
       "<Figure size 936x360 with 2 Axes>"
      ]
     },
     "metadata": {
      "needs_background": "light"
     },
     "output_type": "display_data"
    }
   ],
   "source": [
    "fig, (ax1,ax2) = plt.subplots(ncols=2, figsize = (13, 5))\n",
    "plt.style.use(\"seaborn\")\n",
    "scatter1 = ax1.scatter(df[\"petal length\"], \n",
    "                  df[\"petal width\"],\n",
    "                  c = predicted_labels,\n",
    "                  cmap = \"Accent\")\n",
    "ax1.set(title = \"Predicted labels\", \n",
    "        xlabel= \"petal length\",\n",
    "        ylabel= \"petal width\")\n",
    "\n",
    "scatter2 = ax2.scatter(df[\"petal length\"], \n",
    "                  df[\"petal width\"],\n",
    "                  c = real_labels,\n",
    "                  cmap = \"Accent\")\n",
    "\n",
    "ax2.set(title = \"Real labels\", \n",
    "        xlabel= \"petal length\",\n",
    "        ylabel= \"petal width\")\n",
    "\n",
    "ax1.legend(*scatter1.legend_elements(), title=\"Target\")\n",
    "ax2.legend(*scatter2.legend_elements(), title=\"Target\");"
   ]
  },
  {
   "cell_type": "markdown",
   "id": "de916265",
   "metadata": {},
   "source": [
    "The moddel did pretty good. Lets get some more exact metrics:"
   ]
  },
  {
   "cell_type": "code",
   "execution_count": 37,
   "id": "044efbca",
   "metadata": {},
   "outputs": [
    {
     "name": "stdout",
     "output_type": "stream",
     "text": [
      "              precision    recall  f1-score   support\n",
      "\n",
      "           0       0.92      0.72      0.81        50\n",
      "           1       1.00      1.00      1.00        50\n",
      "           2       0.77      0.94      0.85        50\n",
      "\n",
      "    accuracy                           0.89       150\n",
      "   macro avg       0.90      0.89      0.89       150\n",
      "weighted avg       0.90      0.89      0.89       150\n",
      "\n"
     ]
    }
   ],
   "source": [
    "print(classification_report(real_labels, predicted_labels))"
   ]
  }
 ],
 "metadata": {
  "kernelspec": {
   "display_name": "Python 3 (ipykernel)",
   "language": "python",
   "name": "python3"
  },
  "language_info": {
   "codemirror_mode": {
    "name": "ipython",
    "version": 3
   },
   "file_extension": ".py",
   "mimetype": "text/x-python",
   "name": "python",
   "nbconvert_exporter": "python",
   "pygments_lexer": "ipython3",
   "version": "3.9.7"
  }
 },
 "nbformat": 4,
 "nbformat_minor": 5
}
